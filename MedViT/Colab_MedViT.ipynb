{
  "cells": [
    {
      "cell_type": "code",
      "execution_count": null,
      "metadata": {
        "colab": {
          "base_uri": "https://localhost:8080/"
        },
        "id": "nD9uOPEK65K0",
        "outputId": "dc9c2187-eb1c-4988-946f-925d904a878f"
      },
      "outputs": [
        {
          "name": "stdout",
          "output_type": "stream",
          "text": [
            "Wed Feb 19 02:40:00 2025       \n",
            "+---------------------------------------------------------------------------------------+\n",
            "| NVIDIA-SMI 535.183.01             Driver Version: 535.183.01   CUDA Version: 12.2     |\n",
            "|-----------------------------------------+----------------------+----------------------+\n",
            "| GPU  Name                 Persistence-M | Bus-Id        Disp.A | Volatile Uncorr. ECC |\n",
            "| Fan  Temp   Perf          Pwr:Usage/Cap |         Memory-Usage | GPU-Util  Compute M. |\n",
            "|                                         |                      |               MIG M. |\n",
            "|=========================================+======================+======================|\n",
            "|   0  NVIDIA GeForce RTX 2060 ...    Off | 00000000:0A:00.0  On |                  N/A |\n",
            "| 65%   55C    P3              39W / 175W |    678MiB /  8192MiB |     28%      Default |\n",
            "|                                         |                      |                  N/A |\n",
            "+-----------------------------------------+----------------------+----------------------+\n",
            "                                                                                         \n",
            "+---------------------------------------------------------------------------------------+\n",
            "| Processes:                                                                            |\n",
            "|  GPU   GI   CI        PID   Type   Process name                            GPU Memory |\n",
            "|        ID   ID                                                             Usage      |\n",
            "|=======================================================================================|\n",
            "|    0   N/A  N/A      2387      G   /usr/lib/xorg/Xorg                          235MiB |\n",
            "|    0   N/A  N/A      2687      G   /usr/bin/gnome-shell                         83MiB |\n",
            "|    0   N/A  N/A      3363      G   /usr/local/bin/alacritty                      9MiB |\n",
            "|    0   N/A  N/A      3627      G   ...irefox/5751/usr/lib/firefox/firefox      232MiB |\n",
            "|    0   N/A  N/A      4986      G   /usr/local/bin/alacritty                      9MiB |\n",
            "|    0   N/A  N/A     14522      G   ...erProcess --variations-seed-version      105MiB |\n",
            "+---------------------------------------------------------------------------------------+\n"
          ]
        }
      ],
      "source": [
        "!nvidia-smi"
      ]
    },
    {
      "cell_type": "code",
      "execution_count": 1,
      "metadata": {
        "colab": {
          "base_uri": "https://localhost:8080/"
        },
        "id": "9AwVn7yc7Soj",
        "outputId": "f4c09fbb-458f-4006-87f3-bef9fa1bd216"
      },
      "outputs": [
        {
          "name": "stdout",
          "output_type": "stream",
          "text": [
            "Cloning into 'MedViT'...\n",
            "remote: Enumerating objects: 34, done.\u001b[K\n",
            "remote: Counting objects: 100% (34/34), done.\u001b[K\n",
            "remote: Compressing objects: 100% (28/28), done.\u001b[K\n",
            "remote: Total 34 (delta 6), reused 0 (delta 0), pack-reused 0\u001b[K\n",
            "Unpacking objects: 100% (34/34), 756.87 KiB | 9.83 MiB/s, done.\n"
          ]
        }
      ],
      "source": [
        "!git clone https://github.com/Omid-Nejati/MedViT.git"
      ]
    },
    {
      "cell_type": "code",
      "execution_count": 2,
      "metadata": {
        "colab": {
          "base_uri": "https://localhost:8080/"
        },
        "id": "Y051lFG77tXO",
        "outputId": "cb4a4b64-c59d-4734-e1b6-bca56aa8a3f9"
      },
      "outputs": [
        {
          "name": "stdout",
          "output_type": "stream",
          "text": [
            "/content/MedViT\n"
          ]
        }
      ],
      "source": [
        "cd /content/MedViT"
      ]
    },
    {
      "cell_type": "code",
      "execution_count": 2,
      "metadata": {
        "id": "lgm5vmQp8i9h"
      },
      "outputs": [],
      "source": [
        "import os\n",
        "import sys\n",
        "import numpy as np\n",
        "import matplotlib.pyplot as plt\n",
        "%matplotlib inline\n",
        "\n",
        "import torch\n",
        "import torch.nn as nn\n",
        "import torch.optim as optim\n",
        "\n",
        "import torchvision.utils\n",
        "from torchvision import models\n",
        "import torchvision.datasets as dsets\n",
        "import torchvision.transforms as transforms\n",
        "from torchsummary import summary\n"
      ]
    },
    {
      "cell_type": "markdown",
      "metadata": {
        "id": "1ta2wQYk78Mg"
      },
      "source": [
        "##Model"
      ]
    },
    {
      "cell_type": "code",
      "execution_count": 3,
      "metadata": {
        "colab": {
          "base_uri": "https://localhost:8080/"
        },
        "id": "GmPD4BBg7708",
        "outputId": "5a398676-9227-48b5-d107-7d04ce76e206"
      },
      "outputs": [
        {
          "name": "stdout",
          "output_type": "stream",
          "text": [
            "Requirement already satisfied: timm in /home/somehow/projects/Medical-Report-Generation/venv/lib/python3.12/site-packages (1.0.8)\n",
            "Requirement already satisfied: torch in /home/somehow/projects/Medical-Report-Generation/venv/lib/python3.12/site-packages (from timm) (2.6.0+cu126)\n",
            "Requirement already satisfied: torchvision in /home/somehow/projects/Medical-Report-Generation/venv/lib/python3.12/site-packages (from timm) (0.21.0+cu126)\n",
            "Requirement already satisfied: pyyaml in /home/somehow/projects/Medical-Report-Generation/venv/lib/python3.12/site-packages (from timm) (6.0.2)\n",
            "Requirement already satisfied: huggingface_hub in /home/somehow/projects/Medical-Report-Generation/venv/lib/python3.12/site-packages (from timm) (0.28.1)\n",
            "Requirement already satisfied: safetensors in /home/somehow/projects/Medical-Report-Generation/venv/lib/python3.12/site-packages (from timm) (0.5.2)\n",
            "Requirement already satisfied: filelock in /home/somehow/projects/Medical-Report-Generation/venv/lib/python3.12/site-packages (from huggingface_hub->timm) (3.13.1)\n",
            "Requirement already satisfied: fsspec>=2023.5.0 in /home/somehow/projects/Medical-Report-Generation/venv/lib/python3.12/site-packages (from huggingface_hub->timm) (2024.6.1)\n",
            "Requirement already satisfied: packaging>=20.9 in /home/somehow/projects/Medical-Report-Generation/venv/lib/python3.12/site-packages (from huggingface_hub->timm) (24.2)\n",
            "Requirement already satisfied: requests in /home/somehow/projects/Medical-Report-Generation/venv/lib/python3.12/site-packages (from huggingface_hub->timm) (2.25.1)\n",
            "Requirement already satisfied: tqdm>=4.42.1 in /home/somehow/projects/Medical-Report-Generation/venv/lib/python3.12/site-packages (from huggingface_hub->timm) (4.67.1)\n",
            "Requirement already satisfied: typing-extensions>=3.7.4.3 in /home/somehow/projects/Medical-Report-Generation/venv/lib/python3.12/site-packages (from huggingface_hub->timm) (4.12.2)\n",
            "Requirement already satisfied: setuptools in /home/somehow/projects/Medical-Report-Generation/venv/lib/python3.12/site-packages (from torch->timm) (70.2.0)\n",
            "Requirement already satisfied: sympy==1.13.1 in /home/somehow/projects/Medical-Report-Generation/venv/lib/python3.12/site-packages (from torch->timm) (1.13.1)\n",
            "Requirement already satisfied: networkx in /home/somehow/projects/Medical-Report-Generation/venv/lib/python3.12/site-packages (from torch->timm) (3.3)\n",
            "Requirement already satisfied: jinja2 in /home/somehow/projects/Medical-Report-Generation/venv/lib/python3.12/site-packages (from torch->timm) (3.1.4)\n",
            "Requirement already satisfied: nvidia-cuda-nvrtc-cu12==12.6.77 in /home/somehow/projects/Medical-Report-Generation/venv/lib/python3.12/site-packages (from torch->timm) (12.6.77)\n",
            "Requirement already satisfied: nvidia-cuda-runtime-cu12==12.6.77 in /home/somehow/projects/Medical-Report-Generation/venv/lib/python3.12/site-packages (from torch->timm) (12.6.77)\n",
            "Requirement already satisfied: nvidia-cuda-cupti-cu12==12.6.80 in /home/somehow/projects/Medical-Report-Generation/venv/lib/python3.12/site-packages (from torch->timm) (12.6.80)\n",
            "Requirement already satisfied: nvidia-cudnn-cu12==9.5.1.17 in /home/somehow/projects/Medical-Report-Generation/venv/lib/python3.12/site-packages (from torch->timm) (9.5.1.17)\n",
            "Requirement already satisfied: nvidia-cublas-cu12==12.6.4.1 in /home/somehow/projects/Medical-Report-Generation/venv/lib/python3.12/site-packages (from torch->timm) (12.6.4.1)\n",
            "Requirement already satisfied: nvidia-cufft-cu12==11.3.0.4 in /home/somehow/projects/Medical-Report-Generation/venv/lib/python3.12/site-packages (from torch->timm) (11.3.0.4)\n",
            "Requirement already satisfied: nvidia-curand-cu12==10.3.7.77 in /home/somehow/projects/Medical-Report-Generation/venv/lib/python3.12/site-packages (from torch->timm) (10.3.7.77)\n",
            "Requirement already satisfied: nvidia-cusolver-cu12==11.7.1.2 in /home/somehow/projects/Medical-Report-Generation/venv/lib/python3.12/site-packages (from torch->timm) (11.7.1.2)\n",
            "Requirement already satisfied: nvidia-cusparse-cu12==12.5.4.2 in /home/somehow/projects/Medical-Report-Generation/venv/lib/python3.12/site-packages (from torch->timm) (12.5.4.2)\n",
            "Requirement already satisfied: nvidia-cusparselt-cu12==0.6.3 in /home/somehow/projects/Medical-Report-Generation/venv/lib/python3.12/site-packages (from torch->timm) (0.6.3)\n",
            "Requirement already satisfied: nvidia-nccl-cu12==2.21.5 in /home/somehow/projects/Medical-Report-Generation/venv/lib/python3.12/site-packages (from torch->timm) (2.21.5)\n",
            "Requirement already satisfied: nvidia-nvtx-cu12==12.6.77 in /home/somehow/projects/Medical-Report-Generation/venv/lib/python3.12/site-packages (from torch->timm) (12.6.77)\n",
            "Requirement already satisfied: nvidia-nvjitlink-cu12==12.6.85 in /home/somehow/projects/Medical-Report-Generation/venv/lib/python3.12/site-packages (from torch->timm) (12.6.85)\n",
            "Requirement already satisfied: triton==3.2.0 in /home/somehow/projects/Medical-Report-Generation/venv/lib/python3.12/site-packages (from torch->timm) (3.2.0)\n",
            "Requirement already satisfied: mpmath<1.4,>=1.1.0 in /home/somehow/projects/Medical-Report-Generation/venv/lib/python3.12/site-packages (from sympy==1.13.1->torch->timm) (1.3.0)\n",
            "Requirement already satisfied: numpy in /home/somehow/projects/Medical-Report-Generation/venv/lib/python3.12/site-packages (from torchvision->timm) (2.1.2)\n",
            "Requirement already satisfied: pillow!=8.3.*,>=5.3.0 in /home/somehow/projects/Medical-Report-Generation/venv/lib/python3.12/site-packages (from torchvision->timm) (11.0.0)\n",
            "Requirement already satisfied: MarkupSafe>=2.0 in /home/somehow/projects/Medical-Report-Generation/venv/lib/python3.12/site-packages (from jinja2->torch->timm) (2.1.5)\n",
            "Requirement already satisfied: chardet<5,>=3.0.2 in /home/somehow/projects/Medical-Report-Generation/venv/lib/python3.12/site-packages (from requests->huggingface_hub->timm) (4.0.0)\n",
            "Requirement already satisfied: idna<3,>=2.5 in /home/somehow/projects/Medical-Report-Generation/venv/lib/python3.12/site-packages (from requests->huggingface_hub->timm) (2.10)\n",
            "Requirement already satisfied: urllib3<1.27,>=1.21.1 in /home/somehow/projects/Medical-Report-Generation/venv/lib/python3.12/site-packages (from requests->huggingface_hub->timm) (1.26.20)\n",
            "Requirement already satisfied: certifi>=2017.4.17 in /home/somehow/projects/Medical-Report-Generation/venv/lib/python3.12/site-packages (from requests->huggingface_hub->timm) (2025.1.31)\n",
            "Requirement already satisfied: einops in /home/somehow/projects/Medical-Report-Generation/venv/lib/python3.12/site-packages (0.8.1)\n"
          ]
        }
      ],
      "source": [
        "!pip install timm\n",
        "!pip install einops"
      ]
    },
    {
      "cell_type": "code",
      "execution_count": 4,
      "metadata": {
        "id": "GEQ5S3_U8E0j"
      },
      "outputs": [],
      "source": [
        "from MedViT import MedViT_base as base"
      ]
    },
    {
      "cell_type": "code",
      "execution_count": 5,
      "metadata": {
        "colab": {
          "base_uri": "https://localhost:8080/"
        },
        "id": "JKcyvB0Y8RsK",
        "outputId": "f8536371-3cd2-4924-e674-af4bf44c980b"
      },
      "outputs": [
        {
          "name": "stdout",
          "output_type": "stream",
          "text": [
            "initialize_weights...\n"
          ]
        }
      ],
      "source": [
        "model = base()"
      ]
    },
    {
      "cell_type": "code",
      "execution_count": 6,
      "metadata": {
        "colab": {
          "base_uri": "https://localhost:8080/"
        },
        "id": "35YD-2Ul8aaV",
        "outputId": "8960c453-22fd-4298-8c91-75e9697c0412"
      },
      "outputs": [
        {
          "data": {
            "text/plain": [
              "Linear(in_features=1024, out_features=1000, bias=True)"
            ]
          },
          "execution_count": 6,
          "metadata": {},
          "output_type": "execute_result"
        }
      ],
      "source": [
        "model.proj_head[0]"
      ]
    },
    {
      "cell_type": "code",
      "execution_count": 7,
      "metadata": {
        "id": "0RE8qlwf8ZV5"
      },
      "outputs": [],
      "source": [
        "model.proj_head[0] = torch.nn.Linear(in_features=1024, out_features=2, bias=True)"
      ]
    },
    {
      "cell_type": "code",
      "execution_count": 8,
      "metadata": {
        "id": "dFXm96Gi8g7u"
      },
      "outputs": [],
      "source": [
        "model = model.cuda()"
      ]
    },
    {
      "cell_type": "markdown",
      "metadata": {
        "id": "nIefIFDW80-U"
      },
      "source": [
        "##Dataset"
      ]
    },
    {
      "cell_type": "code",
      "execution_count": 9,
      "metadata": {
        "colab": {
          "base_uri": "https://localhost:8080/"
        },
        "id": "6yVawz1S84b3",
        "outputId": "c6354da3-c3d1-4131-f671-51313faefb01"
      },
      "outputs": [
        {
          "name": "stdout",
          "output_type": "stream",
          "text": [
            "Collecting medmnist\n",
            "  Downloading medmnist-3.0.2-py3-none-any.whl.metadata (14 kB)\n",
            "Requirement already satisfied: numpy in /home/somehow/projects/Medical-Report-Generation/venv/lib/python3.12/site-packages (from medmnist) (2.1.2)\n",
            "Requirement already satisfied: pandas in /home/somehow/projects/Medical-Report-Generation/venv/lib/python3.12/site-packages (from medmnist) (2.2.3)\n",
            "Requirement already satisfied: scikit-learn in /home/somehow/projects/Medical-Report-Generation/venv/lib/python3.12/site-packages (from medmnist) (1.6.1)\n",
            "Requirement already satisfied: scikit-image in /home/somehow/projects/Medical-Report-Generation/venv/lib/python3.12/site-packages (from medmnist) (0.25.2)\n",
            "Requirement already satisfied: tqdm in /home/somehow/projects/Medical-Report-Generation/venv/lib/python3.12/site-packages (from medmnist) (4.67.1)\n",
            "Requirement already satisfied: Pillow in /home/somehow/projects/Medical-Report-Generation/venv/lib/python3.12/site-packages (from medmnist) (11.0.0)\n",
            "Requirement already satisfied: fire in /home/somehow/projects/Medical-Report-Generation/venv/lib/python3.12/site-packages (from medmnist) (0.7.0)\n",
            "Requirement already satisfied: torch in /home/somehow/projects/Medical-Report-Generation/venv/lib/python3.12/site-packages (from medmnist) (2.6.0+cu126)\n",
            "Requirement already satisfied: torchvision in /home/somehow/projects/Medical-Report-Generation/venv/lib/python3.12/site-packages (from medmnist) (0.21.0+cu126)\n",
            "Requirement already satisfied: termcolor in /home/somehow/projects/Medical-Report-Generation/venv/lib/python3.12/site-packages (from fire->medmnist) (2.5.0)\n",
            "Requirement already satisfied: python-dateutil>=2.8.2 in /home/somehow/projects/Medical-Report-Generation/venv/lib/python3.12/site-packages (from pandas->medmnist) (2.9.0.post0)\n",
            "Requirement already satisfied: pytz>=2020.1 in /home/somehow/projects/Medical-Report-Generation/venv/lib/python3.12/site-packages (from pandas->medmnist) (2025.1)\n",
            "Requirement already satisfied: tzdata>=2022.7 in /home/somehow/projects/Medical-Report-Generation/venv/lib/python3.12/site-packages (from pandas->medmnist) (2025.1)\n",
            "Requirement already satisfied: scipy>=1.11.4 in /home/somehow/projects/Medical-Report-Generation/venv/lib/python3.12/site-packages (from scikit-image->medmnist) (1.15.2)\n",
            "Requirement already satisfied: networkx>=3.0 in /home/somehow/projects/Medical-Report-Generation/venv/lib/python3.12/site-packages (from scikit-image->medmnist) (3.3)\n",
            "Requirement already satisfied: imageio!=2.35.0,>=2.33 in /home/somehow/projects/Medical-Report-Generation/venv/lib/python3.12/site-packages (from scikit-image->medmnist) (2.37.0)\n",
            "Requirement already satisfied: tifffile>=2022.8.12 in /home/somehow/projects/Medical-Report-Generation/venv/lib/python3.12/site-packages (from scikit-image->medmnist) (2025.1.10)\n",
            "Requirement already satisfied: packaging>=21 in /home/somehow/projects/Medical-Report-Generation/venv/lib/python3.12/site-packages (from scikit-image->medmnist) (24.2)\n",
            "Requirement already satisfied: lazy-loader>=0.4 in /home/somehow/projects/Medical-Report-Generation/venv/lib/python3.12/site-packages (from scikit-image->medmnist) (0.4)\n",
            "Requirement already satisfied: joblib>=1.2.0 in /home/somehow/projects/Medical-Report-Generation/venv/lib/python3.12/site-packages (from scikit-learn->medmnist) (1.4.2)\n",
            "Requirement already satisfied: threadpoolctl>=3.1.0 in /home/somehow/projects/Medical-Report-Generation/venv/lib/python3.12/site-packages (from scikit-learn->medmnist) (3.5.0)\n",
            "Requirement already satisfied: filelock in /home/somehow/projects/Medical-Report-Generation/venv/lib/python3.12/site-packages (from torch->medmnist) (3.13.1)\n",
            "Requirement already satisfied: typing-extensions>=4.10.0 in /home/somehow/projects/Medical-Report-Generation/venv/lib/python3.12/site-packages (from torch->medmnist) (4.12.2)\n",
            "Requirement already satisfied: setuptools in /home/somehow/projects/Medical-Report-Generation/venv/lib/python3.12/site-packages (from torch->medmnist) (70.2.0)\n",
            "Requirement already satisfied: sympy==1.13.1 in /home/somehow/projects/Medical-Report-Generation/venv/lib/python3.12/site-packages (from torch->medmnist) (1.13.1)\n",
            "Requirement already satisfied: jinja2 in /home/somehow/projects/Medical-Report-Generation/venv/lib/python3.12/site-packages (from torch->medmnist) (3.1.4)\n",
            "Requirement already satisfied: fsspec in /home/somehow/projects/Medical-Report-Generation/venv/lib/python3.12/site-packages (from torch->medmnist) (2024.6.1)\n",
            "Requirement already satisfied: nvidia-cuda-nvrtc-cu12==12.6.77 in /home/somehow/projects/Medical-Report-Generation/venv/lib/python3.12/site-packages (from torch->medmnist) (12.6.77)\n",
            "Requirement already satisfied: nvidia-cuda-runtime-cu12==12.6.77 in /home/somehow/projects/Medical-Report-Generation/venv/lib/python3.12/site-packages (from torch->medmnist) (12.6.77)\n",
            "Requirement already satisfied: nvidia-cuda-cupti-cu12==12.6.80 in /home/somehow/projects/Medical-Report-Generation/venv/lib/python3.12/site-packages (from torch->medmnist) (12.6.80)\n",
            "Requirement already satisfied: nvidia-cudnn-cu12==9.5.1.17 in /home/somehow/projects/Medical-Report-Generation/venv/lib/python3.12/site-packages (from torch->medmnist) (9.5.1.17)\n",
            "Requirement already satisfied: nvidia-cublas-cu12==12.6.4.1 in /home/somehow/projects/Medical-Report-Generation/venv/lib/python3.12/site-packages (from torch->medmnist) (12.6.4.1)\n",
            "Requirement already satisfied: nvidia-cufft-cu12==11.3.0.4 in /home/somehow/projects/Medical-Report-Generation/venv/lib/python3.12/site-packages (from torch->medmnist) (11.3.0.4)\n",
            "Requirement already satisfied: nvidia-curand-cu12==10.3.7.77 in /home/somehow/projects/Medical-Report-Generation/venv/lib/python3.12/site-packages (from torch->medmnist) (10.3.7.77)\n",
            "Requirement already satisfied: nvidia-cusolver-cu12==11.7.1.2 in /home/somehow/projects/Medical-Report-Generation/venv/lib/python3.12/site-packages (from torch->medmnist) (11.7.1.2)\n",
            "Requirement already satisfied: nvidia-cusparse-cu12==12.5.4.2 in /home/somehow/projects/Medical-Report-Generation/venv/lib/python3.12/site-packages (from torch->medmnist) (12.5.4.2)\n",
            "Requirement already satisfied: nvidia-cusparselt-cu12==0.6.3 in /home/somehow/projects/Medical-Report-Generation/venv/lib/python3.12/site-packages (from torch->medmnist) (0.6.3)\n",
            "Requirement already satisfied: nvidia-nccl-cu12==2.21.5 in /home/somehow/projects/Medical-Report-Generation/venv/lib/python3.12/site-packages (from torch->medmnist) (2.21.5)\n",
            "Requirement already satisfied: nvidia-nvtx-cu12==12.6.77 in /home/somehow/projects/Medical-Report-Generation/venv/lib/python3.12/site-packages (from torch->medmnist) (12.6.77)\n",
            "Requirement already satisfied: nvidia-nvjitlink-cu12==12.6.85 in /home/somehow/projects/Medical-Report-Generation/venv/lib/python3.12/site-packages (from torch->medmnist) (12.6.85)\n",
            "Requirement already satisfied: triton==3.2.0 in /home/somehow/projects/Medical-Report-Generation/venv/lib/python3.12/site-packages (from torch->medmnist) (3.2.0)\n",
            "Requirement already satisfied: mpmath<1.4,>=1.1.0 in /home/somehow/projects/Medical-Report-Generation/venv/lib/python3.12/site-packages (from sympy==1.13.1->torch->medmnist) (1.3.0)\n",
            "Requirement already satisfied: six>=1.5 in /home/somehow/projects/Medical-Report-Generation/venv/lib/python3.12/site-packages (from python-dateutil>=2.8.2->pandas->medmnist) (1.17.0)\n",
            "Requirement already satisfied: MarkupSafe>=2.0 in /home/somehow/projects/Medical-Report-Generation/venv/lib/python3.12/site-packages (from jinja2->torch->medmnist) (2.1.5)\n",
            "Downloading medmnist-3.0.2-py3-none-any.whl (25 kB)\n",
            "Installing collected packages: medmnist\n",
            "Successfully installed medmnist-3.0.2\n"
          ]
        }
      ],
      "source": [
        "!pip install medmnist"
      ]
    },
    {
      "cell_type": "code",
      "execution_count": 10,
      "metadata": {
        "id": "ChBhSTxK87hc"
      },
      "outputs": [],
      "source": [
        "from tqdm import tqdm\n",
        "import numpy as np\n",
        "import torch\n",
        "import torch.nn as nn\n",
        "import torch.optim as optim\n",
        "import torch.utils.data as data\n",
        "import torchvision.transforms as transforms\n",
        "\n",
        "import medmnist\n",
        "from medmnist import INFO, Evaluator"
      ]
    },
    {
      "cell_type": "code",
      "execution_count": 11,
      "metadata": {
        "id": "rH1INOxS8-iM"
      },
      "outputs": [],
      "source": [
        "data_flag = 'breastmnist'\n",
        "# [tissuemnist, pathmnist, chestmnist, dermamnist, octmnist, \n",
        "# pnemoniamnist, retinamnist, breastmnist, bloodmnist, tissuemnist, organamnist, organcmnist, organsmnist]\n",
        "download = True\n",
        "\n",
        "NUM_EPOCHS = 10\n",
        "BATCH_SIZE = 10\n",
        "lr = 0.005\n",
        "\n",
        "info = INFO[data_flag]\n",
        "task = info['task']\n",
        "n_channels = info['n_channels']\n",
        "n_classes = len(info['label'])\n",
        "\n",
        "DataClass = getattr(medmnist, info['python_class'])"
      ]
    },
    {
      "cell_type": "code",
      "execution_count": null,
      "metadata": {
        "colab": {
          "base_uri": "https://localhost:8080/"
        },
        "id": "TD22o8uW9L1X",
        "outputId": "b47e6cdc-dd42-4b91-8574-db868c638fea"
      },
      "outputs": [
        {
          "name": "stderr",
          "output_type": "stream",
          "text": [
            "100%|██████████| 560k/560k [00:01<00:00, 345kB/s] \n"
          ]
        }
      ],
      "source": [
        "from torchvision.transforms.transforms import Resize\n",
        "# preprocessing\n",
        "train_transform = transforms.Compose([\n",
        "    transforms.Resize(224),\n",
        "    transforms.Lambda(lambda image: image.convert('RGB')),\n",
        "    torchvision.transforms.AugMix(),\n",
        "    transforms.ToTensor(),\n",
        "    transforms.Normalize(mean=[.5], std=[.5])\n",
        "])\n",
        "test_transform = transforms.Compose([\n",
        "    transforms.Resize(224),\n",
        "    transforms.Lambda(lambda image: image.convert('RGB')),\n",
        "    transforms.ToTensor(),\n",
        "    transforms.Normalize(mean=[.5], std=[.5])\n",
        "])\n",
        "\n",
        "# load the data\n",
        "train_dataset = DataClass(split='train', transform=train_transform, download=download)\n",
        "test_dataset = DataClass(split='test', transform=test_transform, download=download)\n",
        "\n",
        "# pil_dataset = DataClass(split='train', download=download)\n",
        "\n",
        "# encapsulate data into dataloader form\n",
        "train_loader = data.DataLoader(dataset=train_dataset, batch_size=BATCH_SIZE, shuffle=True)\n",
        "train_loader_at_eval = data.DataLoader(dataset=train_dataset, batch_size=2*BATCH_SIZE, shuffle=False)\n",
        "test_loader = data.DataLoader(dataset=test_dataset, batch_size=2*BATCH_SIZE, shuffle=False)"
      ]
    },
    {
      "cell_type": "code",
      "execution_count": 13,
      "metadata": {
        "colab": {
          "base_uri": "https://localhost:8080/"
        },
        "id": "eNjqCTnI9T9w",
        "outputId": "dd0aff61-737b-457f-a627-94b9a0fa8d51"
      },
      "outputs": [
        {
          "name": "stdout",
          "output_type": "stream",
          "text": [
            "Dataset BreastMNIST of size 28 (breastmnist)\n",
            "    Number of datapoints: 546\n",
            "    Root location: /home/somehow/.medmnist\n",
            "    Split: train\n",
            "    Task: binary-class\n",
            "    Number of channels: 1\n",
            "    Meaning of labels: {'0': 'malignant', '1': 'normal, benign'}\n",
            "    Number of samples: {'train': 546, 'val': 78, 'test': 156}\n",
            "    Description: The BreastMNIST is based on a dataset of 780 breast ultrasound images. It is categorized into 3 classes: normal, benign, and malignant. As we use low-resolution images, we simplify the task into binary classification by combining normal and benign as positive and classifying them against malignant as negative. We split the source dataset with a ratio of 7:1:2 into training, validation and test set. The source images of 1×500×500 are resized into 1×28×28.\n",
            "    License: CC BY 4.0\n",
            "===================\n",
            "Dataset BreastMNIST of size 28 (breastmnist)\n",
            "    Number of datapoints: 156\n",
            "    Root location: /home/somehow/.medmnist\n",
            "    Split: test\n",
            "    Task: binary-class\n",
            "    Number of channels: 1\n",
            "    Meaning of labels: {'0': 'malignant', '1': 'normal, benign'}\n",
            "    Number of samples: {'train': 546, 'val': 78, 'test': 156}\n",
            "    Description: The BreastMNIST is based on a dataset of 780 breast ultrasound images. It is categorized into 3 classes: normal, benign, and malignant. As we use low-resolution images, we simplify the task into binary classification by combining normal and benign as positive and classifying them against malignant as negative. We split the source dataset with a ratio of 7:1:2 into training, validation and test set. The source images of 1×500×500 are resized into 1×28×28.\n",
            "    License: CC BY 4.0\n"
          ]
        }
      ],
      "source": [
        "print(train_dataset)\n",
        "print(\"===================\")\n",
        "print(test_dataset)"
      ]
    },
    {
      "cell_type": "markdown",
      "metadata": {
        "id": "g-ImKp2m9cLf"
      },
      "source": [
        "## Train"
      ]
    },
    {
      "cell_type": "code",
      "execution_count": 14,
      "metadata": {
        "id": "gMy_aJrE9eeM"
      },
      "outputs": [],
      "source": [
        "# define loss function and optimizer\n",
        "if task == \"multi-label, binary-class\":\n",
        "    criterion = nn.BCEWithLogitsLoss()\n",
        "else:\n",
        "    criterion = nn.CrossEntropyLoss()\n",
        "    \n",
        "optimizer = optim.SGD(model.parameters(), lr=lr, momentum=0.9)"
      ]
    },
    {
      "cell_type": "code",
      "execution_count": 15,
      "metadata": {
        "colab": {
          "base_uri": "https://localhost:8080/"
        },
        "id": "KmIo3JWf9lEs",
        "outputId": "822ffbe4-b700-450b-adcc-777a69286208"
      },
      "outputs": [
        {
          "name": "stdout",
          "output_type": "stream",
          "text": [
            "Epoch [1/10]\n"
          ]
        },
        {
          "name": "stderr",
          "output_type": "stream",
          "text": [
            "100%|██████████| 55/55 [00:22<00:00,  2.50it/s]\n"
          ]
        },
        {
          "name": "stdout",
          "output_type": "stream",
          "text": [
            "Epoch [2/10]\n"
          ]
        },
        {
          "name": "stderr",
          "output_type": "stream",
          "text": [
            "100%|██████████| 55/55 [00:23<00:00,  2.34it/s]\n"
          ]
        },
        {
          "name": "stdout",
          "output_type": "stream",
          "text": [
            "Epoch [3/10]\n"
          ]
        },
        {
          "name": "stderr",
          "output_type": "stream",
          "text": [
            "100%|██████████| 55/55 [00:25<00:00,  2.18it/s]\n"
          ]
        },
        {
          "name": "stdout",
          "output_type": "stream",
          "text": [
            "Epoch [4/10]\n"
          ]
        },
        {
          "name": "stderr",
          "output_type": "stream",
          "text": [
            "100%|██████████| 55/55 [00:26<00:00,  2.09it/s]\n"
          ]
        },
        {
          "name": "stdout",
          "output_type": "stream",
          "text": [
            "Epoch [5/10]\n"
          ]
        },
        {
          "name": "stderr",
          "output_type": "stream",
          "text": [
            "100%|██████████| 55/55 [00:27<00:00,  1.99it/s]\n"
          ]
        },
        {
          "name": "stdout",
          "output_type": "stream",
          "text": [
            "Epoch [6/10]\n"
          ]
        },
        {
          "name": "stderr",
          "output_type": "stream",
          "text": [
            "100%|██████████| 55/55 [00:28<00:00,  1.91it/s]\n"
          ]
        },
        {
          "name": "stdout",
          "output_type": "stream",
          "text": [
            "Epoch [7/10]\n"
          ]
        },
        {
          "name": "stderr",
          "output_type": "stream",
          "text": [
            "100%|██████████| 55/55 [00:29<00:00,  1.84it/s]\n"
          ]
        },
        {
          "name": "stdout",
          "output_type": "stream",
          "text": [
            "Epoch [8/10]\n"
          ]
        },
        {
          "name": "stderr",
          "output_type": "stream",
          "text": [
            "100%|██████████| 55/55 [00:28<00:00,  1.91it/s]\n"
          ]
        },
        {
          "name": "stdout",
          "output_type": "stream",
          "text": [
            "Epoch [9/10]\n"
          ]
        },
        {
          "name": "stderr",
          "output_type": "stream",
          "text": [
            "100%|██████████| 55/55 [00:30<00:00,  1.80it/s]\n"
          ]
        },
        {
          "name": "stdout",
          "output_type": "stream",
          "text": [
            "Epoch [10/10]\n"
          ]
        },
        {
          "name": "stderr",
          "output_type": "stream",
          "text": [
            "100%|██████████| 55/55 [00:30<00:00,  1.79it/s]\n"
          ]
        }
      ],
      "source": [
        "# train\n",
        "\n",
        "for epoch in range(NUM_EPOCHS):\n",
        "    train_correct = 0\n",
        "    train_total = 0\n",
        "    test_correct = 0\n",
        "    test_total = 0\n",
        "    print('Epoch [%d/%d]'% (epoch+1, NUM_EPOCHS))\n",
        "    model.train()\n",
        "    for inputs, targets in tqdm(train_loader):\n",
        "        inputs, targets = inputs.cuda(), targets.cuda()\n",
        "        # forward + backward + optimize\n",
        "        optimizer.zero_grad()\n",
        "        outputs = model(inputs)\n",
        "        \n",
        "        if task == 'multi-label, binary-class':\n",
        "            targets = targets.to(torch.float32)\n",
        "            loss = criterion(outputs, targets)\n",
        "        else:\n",
        "            targets = targets.squeeze().long()\n",
        "            loss = criterion(outputs, targets)\n",
        "        \n",
        "        loss.backward()\n",
        "        optimizer.step()"
      ]
    },
    {
      "cell_type": "markdown",
      "metadata": {
        "id": "XRkfM6CM91j8"
      },
      "source": [
        "##Test"
      ]
    },
    {
      "cell_type": "code",
      "execution_count": null,
      "metadata": {
        "colab": {
          "base_uri": "https://localhost:8080/"
        },
        "id": "TCSBTpUy93r-",
        "outputId": "e96ed88d-cab0-4c48-824d-5e210185f803"
      },
      "outputs": [
        {
          "name": "stdout",
          "output_type": "stream",
          "text": [
            "==> Evaluating ...\n",
            "train  auc: 0.880  acc:0.804\n",
            "test  auc: 0.820  acc:0.769\n"
          ]
        },
        {
          "ename": "",
          "evalue": "",
          "output_type": "error",
          "traceback": [
            "\u001b[1;31mThe Kernel crashed while executing code in the current cell or a previous cell. \n",
            "\u001b[1;31mPlease review the code in the cell(s) to identify a possible cause of the failure. \n",
            "\u001b[1;31mClick <a href='https://aka.ms/vscodeJupyterKernelCrash'>here</a> for more info. \n",
            "\u001b[1;31mView Jupyter <a href='command:jupyter.viewOutput'>log</a> for further details."
          ]
        }
      ],
      "source": [
        "# evaluation\n",
        "\n",
        "def test(split):\n",
        "    model.eval()\n",
        "    y_true = torch.tensor([]).cuda()\n",
        "    y_score = torch.tensor([]).cuda()\n",
        "    \n",
        "    data_loader = train_loader_at_eval if split == 'train' else test_loader\n",
        "\n",
        "    with torch.no_grad():\n",
        "        for inputs, targets in data_loader:\n",
        "            inputs, targets = inputs.cuda(), targets.cuda()\n",
        "            outputs = model(inputs)\n",
        "\n",
        "            if task == 'multi-label, binary-class':\n",
        "                targets = targets.to(torch.float32)\n",
        "                outputs = outputs.softmax(dim=-1)\n",
        "            else:\n",
        "                targets = targets.squeeze().long()\n",
        "                outputs = outputs.softmax(dim=-1)\n",
        "                targets = targets.float().resize_(len(targets), 1)\n",
        "\n",
        "            y_true = torch.cat((y_true, targets), 0)\n",
        "            y_score = torch.cat((y_score, outputs), 0)\n",
        "\n",
        "        y_true = y_true.cpu().numpy()\n",
        "        y_score = y_score.detach().cpu().numpy()\n",
        "        \n",
        "        evaluator = Evaluator(data_flag, split)\n",
        "        metrics = evaluator.evaluate(y_score)\n",
        "    \n",
        "        print('%s  auc: %.3f  acc:%.3f' % (split, *metrics))\n",
        "\n",
        "        \n",
        "print('==> Evaluating ...')\n",
        "test('train')\n",
        "test('test')"
      ]
    }
  ],
  "metadata": {
    "accelerator": "GPU",
    "colab": {
      "gpuType": "T4",
      "provenance": []
    },
    "gpuClass": "standard",
    "kernelspec": {
      "display_name": "venv",
      "language": "python",
      "name": "python3"
    },
    "language_info": {
      "codemirror_mode": {
        "name": "ipython",
        "version": 3
      },
      "file_extension": ".py",
      "mimetype": "text/x-python",
      "name": "python",
      "nbconvert_exporter": "python",
      "pygments_lexer": "ipython3",
      "version": "3.12.3"
    }
  },
  "nbformat": 4,
  "nbformat_minor": 0
}
