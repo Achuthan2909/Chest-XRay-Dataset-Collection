{
 "cells": [
  {
   "cell_type": "code",
   "execution_count": 1,
   "metadata": {},
   "outputs": [
    {
     "name": "stdout",
     "output_type": "stream",
     "text": [
      "Disease: no_lung_opacity___not_normal, Images: 11821\n",
      "Disease: hernia, Images: 227\n",
      "Disease: mass, Images: 5782\n",
      "Disease: cardiomegaly, Images: 2776\n",
      "Disease: atelectasis, Images: 11559\n",
      "Disease: effusion, Images: 13317\n",
      "Disease: pneumothorax, Images: 5302\n",
      "Disease: nodule, Images: 6331\n",
      "Disease: edema, Images: 2303\n",
      "Disease: lung_opacity, Images: 6036\n",
      "Disease: pleural_thickening, Images: 3385\n",
      "Disease: pneumonia, Images: 5704\n",
      "Disease: normal, Images: 10434\n",
      "Disease: emphysema, Images: 2516\n",
      "Disease: infiltration, Images: 19894\n",
      "Disease: consolidation, Images: 4667\n",
      "Disease: fibrosis, Images: 1686\n",
      "\n",
      "Summary:\n",
      "- no_lung_opacity___not_normal: 11821 images\n",
      "- hernia: 227 images\n",
      "- mass: 5782 images\n",
      "- cardiomegaly: 2776 images\n",
      "- atelectasis: 11559 images\n",
      "- effusion: 13317 images\n",
      "- pneumothorax: 5302 images\n",
      "- nodule: 6331 images\n",
      "- edema: 2303 images\n",
      "- lung_opacity: 6036 images\n",
      "- pleural_thickening: 3385 images\n",
      "- pneumonia: 5704 images\n",
      "- normal: 10434 images\n",
      "- emphysema: 2516 images\n",
      "- infiltration: 19894 images\n",
      "- consolidation: 4667 images\n",
      "- fibrosis: 1686 images\n",
      "\n",
      "Total Diseases: 17\n",
      "Total Images: 113740\n"
     ]
    },
    {
     "data": {
      "application/vnd.plotly.v1+json": {
       "config": {
        "plotlyServerURL": "https://plot.ly"
       },
       "data": [
        {
         "hoverinfo": "label+percent",
         "labels": [
          "no_lung_opacity___not_normal",
          "hernia",
          "mass",
          "cardiomegaly",
          "atelectasis",
          "effusion",
          "pneumothorax",
          "nodule",
          "edema",
          "lung_opacity",
          "pleural_thickening",
          "pneumonia",
          "normal",
          "emphysema",
          "infiltration",
          "consolidation",
          "fibrosis"
         ],
         "textinfo": "value",
         "type": "pie",
         "values": [
          11821,
          227,
          5782,
          2776,
          11559,
          13317,
          5302,
          6331,
          2303,
          6036,
          3385,
          5704,
          10434,
          2516,
          19894,
          4667,
          1686
         ]
        }
       ],
       "layout": {
        "template": {
         "data": {
          "bar": [
           {
            "error_x": {
             "color": "#2a3f5f"
            },
            "error_y": {
             "color": "#2a3f5f"
            },
            "marker": {
             "line": {
              "color": "#E5ECF6",
              "width": 0.5
             },
             "pattern": {
              "fillmode": "overlay",
              "size": 10,
              "solidity": 0.2
             }
            },
            "type": "bar"
           }
          ],
          "barpolar": [
           {
            "marker": {
             "line": {
              "color": "#E5ECF6",
              "width": 0.5
             },
             "pattern": {
              "fillmode": "overlay",
              "size": 10,
              "solidity": 0.2
             }
            },
            "type": "barpolar"
           }
          ],
          "carpet": [
           {
            "aaxis": {
             "endlinecolor": "#2a3f5f",
             "gridcolor": "white",
             "linecolor": "white",
             "minorgridcolor": "white",
             "startlinecolor": "#2a3f5f"
            },
            "baxis": {
             "endlinecolor": "#2a3f5f",
             "gridcolor": "white",
             "linecolor": "white",
             "minorgridcolor": "white",
             "startlinecolor": "#2a3f5f"
            },
            "type": "carpet"
           }
          ],
          "choropleth": [
           {
            "colorbar": {
             "outlinewidth": 0,
             "ticks": ""
            },
            "type": "choropleth"
           }
          ],
          "contour": [
           {
            "colorbar": {
             "outlinewidth": 0,
             "ticks": ""
            },
            "colorscale": [
             [
              0,
              "#0d0887"
             ],
             [
              0.1111111111111111,
              "#46039f"
             ],
             [
              0.2222222222222222,
              "#7201a8"
             ],
             [
              0.3333333333333333,
              "#9c179e"
             ],
             [
              0.4444444444444444,
              "#bd3786"
             ],
             [
              0.5555555555555556,
              "#d8576b"
             ],
             [
              0.6666666666666666,
              "#ed7953"
             ],
             [
              0.7777777777777778,
              "#fb9f3a"
             ],
             [
              0.8888888888888888,
              "#fdca26"
             ],
             [
              1,
              "#f0f921"
             ]
            ],
            "type": "contour"
           }
          ],
          "contourcarpet": [
           {
            "colorbar": {
             "outlinewidth": 0,
             "ticks": ""
            },
            "type": "contourcarpet"
           }
          ],
          "heatmap": [
           {
            "colorbar": {
             "outlinewidth": 0,
             "ticks": ""
            },
            "colorscale": [
             [
              0,
              "#0d0887"
             ],
             [
              0.1111111111111111,
              "#46039f"
             ],
             [
              0.2222222222222222,
              "#7201a8"
             ],
             [
              0.3333333333333333,
              "#9c179e"
             ],
             [
              0.4444444444444444,
              "#bd3786"
             ],
             [
              0.5555555555555556,
              "#d8576b"
             ],
             [
              0.6666666666666666,
              "#ed7953"
             ],
             [
              0.7777777777777778,
              "#fb9f3a"
             ],
             [
              0.8888888888888888,
              "#fdca26"
             ],
             [
              1,
              "#f0f921"
             ]
            ],
            "type": "heatmap"
           }
          ],
          "histogram": [
           {
            "marker": {
             "pattern": {
              "fillmode": "overlay",
              "size": 10,
              "solidity": 0.2
             }
            },
            "type": "histogram"
           }
          ],
          "histogram2d": [
           {
            "colorbar": {
             "outlinewidth": 0,
             "ticks": ""
            },
            "colorscale": [
             [
              0,
              "#0d0887"
             ],
             [
              0.1111111111111111,
              "#46039f"
             ],
             [
              0.2222222222222222,
              "#7201a8"
             ],
             [
              0.3333333333333333,
              "#9c179e"
             ],
             [
              0.4444444444444444,
              "#bd3786"
             ],
             [
              0.5555555555555556,
              "#d8576b"
             ],
             [
              0.6666666666666666,
              "#ed7953"
             ],
             [
              0.7777777777777778,
              "#fb9f3a"
             ],
             [
              0.8888888888888888,
              "#fdca26"
             ],
             [
              1,
              "#f0f921"
             ]
            ],
            "type": "histogram2d"
           }
          ],
          "histogram2dcontour": [
           {
            "colorbar": {
             "outlinewidth": 0,
             "ticks": ""
            },
            "colorscale": [
             [
              0,
              "#0d0887"
             ],
             [
              0.1111111111111111,
              "#46039f"
             ],
             [
              0.2222222222222222,
              "#7201a8"
             ],
             [
              0.3333333333333333,
              "#9c179e"
             ],
             [
              0.4444444444444444,
              "#bd3786"
             ],
             [
              0.5555555555555556,
              "#d8576b"
             ],
             [
              0.6666666666666666,
              "#ed7953"
             ],
             [
              0.7777777777777778,
              "#fb9f3a"
             ],
             [
              0.8888888888888888,
              "#fdca26"
             ],
             [
              1,
              "#f0f921"
             ]
            ],
            "type": "histogram2dcontour"
           }
          ],
          "mesh3d": [
           {
            "colorbar": {
             "outlinewidth": 0,
             "ticks": ""
            },
            "type": "mesh3d"
           }
          ],
          "parcoords": [
           {
            "line": {
             "colorbar": {
              "outlinewidth": 0,
              "ticks": ""
             }
            },
            "type": "parcoords"
           }
          ],
          "pie": [
           {
            "automargin": true,
            "type": "pie"
           }
          ],
          "scatter": [
           {
            "fillpattern": {
             "fillmode": "overlay",
             "size": 10,
             "solidity": 0.2
            },
            "type": "scatter"
           }
          ],
          "scatter3d": [
           {
            "line": {
             "colorbar": {
              "outlinewidth": 0,
              "ticks": ""
             }
            },
            "marker": {
             "colorbar": {
              "outlinewidth": 0,
              "ticks": ""
             }
            },
            "type": "scatter3d"
           }
          ],
          "scattercarpet": [
           {
            "marker": {
             "colorbar": {
              "outlinewidth": 0,
              "ticks": ""
             }
            },
            "type": "scattercarpet"
           }
          ],
          "scattergeo": [
           {
            "marker": {
             "colorbar": {
              "outlinewidth": 0,
              "ticks": ""
             }
            },
            "type": "scattergeo"
           }
          ],
          "scattergl": [
           {
            "marker": {
             "colorbar": {
              "outlinewidth": 0,
              "ticks": ""
             }
            },
            "type": "scattergl"
           }
          ],
          "scattermap": [
           {
            "marker": {
             "colorbar": {
              "outlinewidth": 0,
              "ticks": ""
             }
            },
            "type": "scattermap"
           }
          ],
          "scattermapbox": [
           {
            "marker": {
             "colorbar": {
              "outlinewidth": 0,
              "ticks": ""
             }
            },
            "type": "scattermapbox"
           }
          ],
          "scatterpolar": [
           {
            "marker": {
             "colorbar": {
              "outlinewidth": 0,
              "ticks": ""
             }
            },
            "type": "scatterpolar"
           }
          ],
          "scatterpolargl": [
           {
            "marker": {
             "colorbar": {
              "outlinewidth": 0,
              "ticks": ""
             }
            },
            "type": "scatterpolargl"
           }
          ],
          "scatterternary": [
           {
            "marker": {
             "colorbar": {
              "outlinewidth": 0,
              "ticks": ""
             }
            },
            "type": "scatterternary"
           }
          ],
          "surface": [
           {
            "colorbar": {
             "outlinewidth": 0,
             "ticks": ""
            },
            "colorscale": [
             [
              0,
              "#0d0887"
             ],
             [
              0.1111111111111111,
              "#46039f"
             ],
             [
              0.2222222222222222,
              "#7201a8"
             ],
             [
              0.3333333333333333,
              "#9c179e"
             ],
             [
              0.4444444444444444,
              "#bd3786"
             ],
             [
              0.5555555555555556,
              "#d8576b"
             ],
             [
              0.6666666666666666,
              "#ed7953"
             ],
             [
              0.7777777777777778,
              "#fb9f3a"
             ],
             [
              0.8888888888888888,
              "#fdca26"
             ],
             [
              1,
              "#f0f921"
             ]
            ],
            "type": "surface"
           }
          ],
          "table": [
           {
            "cells": {
             "fill": {
              "color": "#EBF0F8"
             },
             "line": {
              "color": "white"
             }
            },
            "header": {
             "fill": {
              "color": "#C8D4E3"
             },
             "line": {
              "color": "white"
             }
            },
            "type": "table"
           }
          ]
         },
         "layout": {
          "annotationdefaults": {
           "arrowcolor": "#2a3f5f",
           "arrowhead": 0,
           "arrowwidth": 1
          },
          "autotypenumbers": "strict",
          "coloraxis": {
           "colorbar": {
            "outlinewidth": 0,
            "ticks": ""
           }
          },
          "colorscale": {
           "diverging": [
            [
             0,
             "#8e0152"
            ],
            [
             0.1,
             "#c51b7d"
            ],
            [
             0.2,
             "#de77ae"
            ],
            [
             0.3,
             "#f1b6da"
            ],
            [
             0.4,
             "#fde0ef"
            ],
            [
             0.5,
             "#f7f7f7"
            ],
            [
             0.6,
             "#e6f5d0"
            ],
            [
             0.7,
             "#b8e186"
            ],
            [
             0.8,
             "#7fbc41"
            ],
            [
             0.9,
             "#4d9221"
            ],
            [
             1,
             "#276419"
            ]
           ],
           "sequential": [
            [
             0,
             "#0d0887"
            ],
            [
             0.1111111111111111,
             "#46039f"
            ],
            [
             0.2222222222222222,
             "#7201a8"
            ],
            [
             0.3333333333333333,
             "#9c179e"
            ],
            [
             0.4444444444444444,
             "#bd3786"
            ],
            [
             0.5555555555555556,
             "#d8576b"
            ],
            [
             0.6666666666666666,
             "#ed7953"
            ],
            [
             0.7777777777777778,
             "#fb9f3a"
            ],
            [
             0.8888888888888888,
             "#fdca26"
            ],
            [
             1,
             "#f0f921"
            ]
           ],
           "sequentialminus": [
            [
             0,
             "#0d0887"
            ],
            [
             0.1111111111111111,
             "#46039f"
            ],
            [
             0.2222222222222222,
             "#7201a8"
            ],
            [
             0.3333333333333333,
             "#9c179e"
            ],
            [
             0.4444444444444444,
             "#bd3786"
            ],
            [
             0.5555555555555556,
             "#d8576b"
            ],
            [
             0.6666666666666666,
             "#ed7953"
            ],
            [
             0.7777777777777778,
             "#fb9f3a"
            ],
            [
             0.8888888888888888,
             "#fdca26"
            ],
            [
             1,
             "#f0f921"
            ]
           ]
          },
          "colorway": [
           "#636efa",
           "#EF553B",
           "#00cc96",
           "#ab63fa",
           "#FFA15A",
           "#19d3f3",
           "#FF6692",
           "#B6E880",
           "#FF97FF",
           "#FECB52"
          ],
          "font": {
           "color": "#2a3f5f"
          },
          "geo": {
           "bgcolor": "white",
           "lakecolor": "white",
           "landcolor": "#E5ECF6",
           "showlakes": true,
           "showland": true,
           "subunitcolor": "white"
          },
          "hoverlabel": {
           "align": "left"
          },
          "hovermode": "closest",
          "mapbox": {
           "style": "light"
          },
          "paper_bgcolor": "white",
          "plot_bgcolor": "#E5ECF6",
          "polar": {
           "angularaxis": {
            "gridcolor": "white",
            "linecolor": "white",
            "ticks": ""
           },
           "bgcolor": "#E5ECF6",
           "radialaxis": {
            "gridcolor": "white",
            "linecolor": "white",
            "ticks": ""
           }
          },
          "scene": {
           "xaxis": {
            "backgroundcolor": "#E5ECF6",
            "gridcolor": "white",
            "gridwidth": 2,
            "linecolor": "white",
            "showbackground": true,
            "ticks": "",
            "zerolinecolor": "white"
           },
           "yaxis": {
            "backgroundcolor": "#E5ECF6",
            "gridcolor": "white",
            "gridwidth": 2,
            "linecolor": "white",
            "showbackground": true,
            "ticks": "",
            "zerolinecolor": "white"
           },
           "zaxis": {
            "backgroundcolor": "#E5ECF6",
            "gridcolor": "white",
            "gridwidth": 2,
            "linecolor": "white",
            "showbackground": true,
            "ticks": "",
            "zerolinecolor": "white"
           }
          },
          "shapedefaults": {
           "line": {
            "color": "#2a3f5f"
           }
          },
          "ternary": {
           "aaxis": {
            "gridcolor": "white",
            "linecolor": "white",
            "ticks": ""
           },
           "baxis": {
            "gridcolor": "white",
            "linecolor": "white",
            "ticks": ""
           },
           "bgcolor": "#E5ECF6",
           "caxis": {
            "gridcolor": "white",
            "linecolor": "white",
            "ticks": ""
           }
          },
          "title": {
           "x": 0.05
          },
          "xaxis": {
           "automargin": true,
           "gridcolor": "white",
           "linecolor": "white",
           "ticks": "",
           "title": {
            "standoff": 15
           },
           "zerolinecolor": "white",
           "zerolinewidth": 2
          },
          "yaxis": {
           "automargin": true,
           "gridcolor": "white",
           "linecolor": "white",
           "ticks": "",
           "title": {
            "standoff": 15
           },
           "zerolinecolor": "white",
           "zerolinewidth": 2
          }
         }
        },
        "title": {
         "text": "Disease Image Distribution"
        }
       }
      }
     },
     "metadata": {},
     "output_type": "display_data"
    }
   ],
   "source": [
    "import os\n",
    "import glob\n",
    "import plotly.graph_objects as go\n",
    "\n",
    "def analyze_disease_directory(directory):\n",
    "    \"\"\"\n",
    "    Analyzes a directory containing disease folders and images.\n",
    "\n",
    "    Args:\n",
    "        directory: The path to the main directory.\n",
    "\n",
    "    Returns:\n",
    "        A dictionary where keys are disease names (folder names) and \n",
    "        values are the number of images in each folder.  Returns an\n",
    "        empty dictionary if the directory doesn't exist or if there\n",
    "        are problems accessing it.  Also prints informative messages\n",
    "        to the console.\n",
    "    \"\"\"\n",
    "\n",
    "    try:\n",
    "        if not os.path.isdir(directory):\n",
    "            print(f\"Error: Directory '{directory}' not found.\")\n",
    "            return {}\n",
    "\n",
    "        disease_counts = {}\n",
    "        disease_folders = [f for f in os.listdir(directory) if os.path.isdir(os.path.join(directory, f))]\n",
    "\n",
    "\n",
    "        if not disease_folders:\n",
    "            print(f\"No disease folders found in '{directory}'.\")\n",
    "            return {}\n",
    "\n",
    "\n",
    "        for disease_folder in disease_folders:\n",
    "            disease_path = os.path.join(directory, disease_folder)\n",
    "            image_extensions = [\"*.jpg\", \"*.jpeg\", \"*.png\", \"*.gif\", \"*.bmp\"]  # Add more if needed\n",
    "            image_count = 0\n",
    "\n",
    "            for ext in image_extensions:\n",
    "                image_count += len(glob.glob(os.path.join(disease_path, ext)))  # More robust image counting\n",
    "\n",
    "            disease_counts[disease_folder] = image_count\n",
    "            print(f\"Disease: {disease_folder}, Images: {image_count}\")\n",
    "\n",
    "        return disease_counts\n",
    "\n",
    "    except Exception as e:\n",
    "        print(f\"An error occurred: {e}\")\n",
    "        return {}\n",
    "\n",
    "\n",
    "def plot_disease_counts(disease_counts):\n",
    "    \"\"\"Plots disease counts in a pie chart using Plotly.\"\"\"\n",
    "\n",
    "    if not disease_counts:\n",
    "        print(\"No data to plot.\")\n",
    "        return\n",
    "\n",
    "    labels = list(disease_counts.keys())\n",
    "    values = list(disease_counts.values())\n",
    "\n",
    "    fig = go.Figure(data=[go.Pie(labels=labels, values=values, hoverinfo='label+percent', textinfo='value')])\n",
    "    fig.update_layout(title=\"Disease Image Distribution\")  # Add a title\n",
    "    fig.show()\n",
    "\n",
    "\n",
    "\n",
    "# Example usage:\n",
    "main_directory = \"/Users/anyhow/projects/data_science/Medical-Report-Generation/processed_dataset\"  # Replace with the actual path\n",
    "results = analyze_disease_directory(main_directory)\n",
    "\n",
    "if results:\n",
    "    print(\"\\nSummary:\")\n",
    "    for disease, count in results.items():\n",
    "        print(f\"- {disease}: {count} images\")\n",
    "\n",
    "    total_diseases = len(results)\n",
    "    total_images = sum(results.values())\n",
    "    print(f\"\\nTotal Diseases: {total_diseases}\")\n",
    "    print(f\"Total Images: {total_images}\")\n",
    "\n",
    "    plot_disease_counts(results) # Call the plotting function"
   ]
  },
  {
   "cell_type": "code",
   "execution_count": 8,
   "metadata": {},
   "outputs": [
    {
     "name": "stdout",
     "output_type": "stream",
     "text": [
      "  Disease: no_lung_opacity___not_normal\n",
      "    Image Count: 5910\n",
      "    Image Types: {'png'}\n",
      "    Dimensions: {(224, 224)}\n",
      "--------------------\n",
      "  Disease: hernia\n",
      "    Image Count: 113\n",
      "    Image Types: {'png'}\n",
      "    Dimensions: {(224, 224)}\n",
      "--------------------\n",
      "  Disease: mass\n",
      "    Image Count: 2891\n",
      "    Image Types: {'png'}\n",
      "    Dimensions: {(224, 224)}\n",
      "--------------------\n",
      "  Disease: cardiomegaly\n",
      "    Image Count: 1388\n",
      "    Image Types: {'png'}\n",
      "    Dimensions: {(224, 224)}\n",
      "--------------------\n",
      "  Disease: atelectasis\n",
      "    Image Count: 5779\n",
      "    Image Types: {'png'}\n",
      "    Dimensions: {(224, 224)}\n",
      "--------------------\n",
      "  Disease: effusion\n",
      "    Image Count: 6658\n",
      "    Image Types: {'png'}\n",
      "    Dimensions: {(224, 224)}\n",
      "--------------------\n",
      "  Disease: pneumothorax\n",
      "    Image Count: 2651\n",
      "    Image Types: {'png'}\n",
      "    Dimensions: {(224, 224)}\n",
      "--------------------\n",
      "  Disease: nodule\n",
      "    Image Count: 3165\n",
      "    Image Types: {'png'}\n",
      "    Dimensions: {(224, 224)}\n",
      "--------------------\n",
      "  Disease: edema\n",
      "    Image Count: 1151\n",
      "    Image Types: {'png'}\n",
      "    Dimensions: {(224, 224)}\n",
      "--------------------\n",
      "  Disease: lung_opacity\n",
      "    Image Count: 3018\n",
      "    Image Types: {'png'}\n",
      "    Dimensions: {(224, 224)}\n",
      "--------------------\n",
      "  Disease: pleural_thickening\n",
      "    Image Count: 1692\n",
      "    Image Types: {'png'}\n",
      "    Dimensions: {(224, 224)}\n",
      "--------------------\n",
      "  Disease: pneumonia\n",
      "    Image Count: 2852\n",
      "    Image Types: {'png'}\n",
      "    Dimensions: {(224, 224)}\n",
      "--------------------\n",
      "  Disease: normal\n",
      "    Image Count: 5217\n",
      "    Image Types: {'png'}\n",
      "    Dimensions: {(224, 224)}\n",
      "--------------------\n",
      "  Disease: emphysema\n",
      "    Image Count: 1258\n",
      "    Image Types: {'png'}\n",
      "    Dimensions: {(224, 224)}\n",
      "--------------------\n",
      "  Disease: infiltration\n",
      "    Image Count: 9947\n",
      "    Image Types: {'png'}\n",
      "    Dimensions: {(224, 224)}\n",
      "--------------------\n",
      "  Disease: consolidation\n",
      "    Image Count: 2333\n",
      "    Image Types: {'png'}\n",
      "    Dimensions: {(224, 224)}\n",
      "--------------------\n",
      "  Disease: fibrosis\n",
      "    Image Count: 843\n",
      "    Image Types: {'png'}\n",
      "    Dimensions: {(224, 224)}\n",
      "--------------------\n",
      "Folder: /Users/anyhow/projects/data_science/Medical-Report-Generation/processed_dataset/train\n",
      "  Total Image Count: 56866\n",
      "  Overall Image Types: {'png'}\n",
      "  Overall Dimensions: {(224, 224)}\n",
      "==============================\n",
      "  Disease: no_lung_opacity___not_normal\n",
      "    Image Count: 2365\n",
      "    Image Types: {'png'}\n",
      "    Dimensions: {(224, 224)}\n",
      "--------------------\n",
      "  Disease: hernia\n",
      "    Image Count: 46\n",
      "    Image Types: {'png'}\n",
      "    Dimensions: {(224, 224)}\n",
      "--------------------\n",
      "  Disease: mass\n",
      "    Image Count: 1157\n",
      "    Image Types: {'png'}\n",
      "    Dimensions: {(224, 224)}\n",
      "--------------------\n",
      "  Disease: cardiomegaly\n",
      "    Image Count: 556\n",
      "    Image Types: {'png'}\n",
      "    Dimensions: {(224, 224)}\n",
      "--------------------\n",
      "  Disease: atelectasis\n",
      "    Image Count: 2312\n",
      "    Image Types: {'png'}\n",
      "    Dimensions: {(224, 224)}\n",
      "--------------------\n",
      "  Disease: effusion\n",
      "    Image Count: 2664\n",
      "    Image Types: {'png'}\n",
      "    Dimensions: {(224, 224)}\n",
      "--------------------\n",
      "  Disease: pneumothorax\n",
      "    Image Count: 1061\n",
      "    Image Types: {'png'}\n",
      "    Dimensions: {(224, 224)}\n",
      "--------------------\n",
      "  Disease: nodule\n",
      "    Image Count: 1267\n",
      "    Image Types: {'png'}\n",
      "    Dimensions: {(224, 224)}\n",
      "--------------------\n",
      "  Disease: edema\n",
      "    Image Count: 461\n",
      "    Image Types: {'png'}\n",
      "    Dimensions: {(224, 224)}\n",
      "--------------------\n",
      "  Disease: lung_opacity\n",
      "    Image Count: 1208\n",
      "    Image Types: {'png'}\n",
      "    Dimensions: {(224, 224)}\n",
      "--------------------\n",
      "  Disease: pleural_thickening\n",
      "    Image Count: 678\n",
      "    Image Types: {'png'}\n",
      "    Dimensions: {(224, 224)}\n",
      "--------------------\n",
      "  Disease: pneumonia\n",
      "    Image Count: 1141\n",
      "    Image Types: {'png'}\n",
      "    Dimensions: {(224, 224)}\n",
      "--------------------\n",
      "  Disease: normal\n",
      "    Image Count: 2087\n",
      "    Image Types: {'png'}\n",
      "    Dimensions: {(224, 224)}\n",
      "--------------------\n",
      "  Disease: emphysema\n",
      "    Image Count: 504\n",
      "    Image Types: {'png'}\n",
      "    Dimensions: {(224, 224)}\n",
      "--------------------\n",
      "  Disease: infiltration\n",
      "    Image Count: 3979\n",
      "    Image Types: {'png'}\n",
      "    Dimensions: {(224, 224)}\n",
      "--------------------\n",
      "  Disease: consolidation\n",
      "    Image Count: 934\n",
      "    Image Types: {'png'}\n",
      "    Dimensions: {(224, 224)}\n",
      "--------------------\n",
      "  Disease: fibrosis\n",
      "    Image Count: 338\n",
      "    Image Types: {'png'}\n",
      "    Dimensions: {(224, 224)}\n",
      "--------------------\n",
      "Folder: /Users/anyhow/projects/data_science/Medical-Report-Generation/processed_dataset/test\n",
      "  Total Image Count: 22758\n",
      "  Overall Image Types: {'png'}\n",
      "  Overall Dimensions: {(224, 224)}\n",
      "==============================\n",
      "  Disease: no_lung_opacity___not_normal\n",
      "    Image Count: 3546\n",
      "    Image Types: {'png'}\n",
      "    Dimensions: {(224, 224)}\n",
      "--------------------\n",
      "  Disease: hernia\n",
      "    Image Count: 68\n",
      "    Image Types: {'png'}\n",
      "    Dimensions: {(224, 224)}\n",
      "--------------------\n",
      "  Disease: mass\n",
      "    Image Count: 1734\n",
      "    Image Types: {'png'}\n",
      "    Dimensions: {(224, 224)}\n",
      "--------------------\n",
      "  Disease: cardiomegaly\n",
      "    Image Count: 832\n",
      "    Image Types: {'png'}\n",
      "    Dimensions: {(224, 224)}\n",
      "--------------------\n",
      "  Disease: atelectasis\n",
      "    Image Count: 3468\n",
      "    Image Types: {'png'}\n",
      "    Dimensions: {(224, 224)}\n",
      "--------------------\n",
      "  Disease: effusion\n",
      "    Image Count: 3995\n",
      "    Image Types: {'png'}\n",
      "    Dimensions: {(224, 224)}\n",
      "--------------------\n",
      "  Disease: pneumothorax\n",
      "    Image Count: 1590\n",
      "    Image Types: {'png'}\n",
      "    Dimensions: {(224, 224)}\n",
      "--------------------\n",
      "  Disease: nodule\n",
      "    Image Count: 1899\n",
      "    Image Types: {'png'}\n",
      "    Dimensions: {(224, 224)}\n",
      "--------------------\n",
      "  Disease: edema\n",
      "    Image Count: 691\n",
      "    Image Types: {'png'}\n",
      "    Dimensions: {(224, 224)}\n",
      "--------------------\n",
      "  Disease: lung_opacity\n",
      "    Image Count: 1810\n",
      "    Image Types: {'png'}\n",
      "    Dimensions: {(224, 224)}\n",
      "--------------------\n",
      "  Disease: pleural_thickening\n",
      "    Image Count: 1015\n",
      "    Image Types: {'png'}\n",
      "    Dimensions: {(224, 224)}\n",
      "--------------------\n",
      "  Disease: pneumonia\n",
      "    Image Count: 1711\n",
      "    Image Types: {'png'}\n",
      "    Dimensions: {(224, 224)}\n",
      "--------------------\n",
      "  Disease: normal\n",
      "    Image Count: 3130\n",
      "    Image Types: {'png'}\n",
      "    Dimensions: {(224, 224)}\n",
      "--------------------\n",
      "  Disease: emphysema\n",
      "    Image Count: 754\n",
      "    Image Types: {'png'}\n",
      "    Dimensions: {(224, 224)}\n",
      "--------------------\n",
      "  Disease: infiltration\n",
      "    Image Count: 5968\n",
      "    Image Types: {'png'}\n",
      "    Dimensions: {(224, 224)}\n",
      "--------------------\n",
      "  Disease: consolidation\n",
      "    Image Count: 1400\n",
      "    Image Types: {'png'}\n",
      "    Dimensions: {(224, 224)}\n",
      "--------------------\n",
      "  Disease: fibrosis\n",
      "    Image Count: 505\n",
      "    Image Types: {'png'}\n",
      "    Dimensions: {(224, 224)}\n",
      "--------------------\n",
      "Folder: /Users/anyhow/projects/data_science/Medical-Report-Generation/processed_dataset/val\n",
      "  Total Image Count: 34116\n",
      "  Overall Image Types: {'png'}\n",
      "  Overall Dimensions: {(224, 224)}\n",
      "==============================\n"
     ]
    }
   ],
   "source": [
    "import os\n",
    "import cv2\n",
    "import pydicom\n",
    "import numpy as np\n",
    "\n",
    "def analyze_image_folder(root_folder):\n",
    "    \"\"\"Analyzes images in a folder and its subfolders (disease folders).\"\"\"\n",
    "\n",
    "    all_image_types = set()\n",
    "    all_dimensions = set()\n",
    "    total_image_count = 0\n",
    "\n",
    "    for disease_folder in os.listdir(root_folder):\n",
    "        disease_path = os.path.join(root_folder, disease_folder)\n",
    "\n",
    "        if os.path.isdir(disease_path):  # Check if it's a directory (disease folder)\n",
    "            image_types, dimensions, image_count = _analyze_images_in_folder(disease_path) # Helper function\n",
    "            all_image_types.update(image_types)  # Use update for sets\n",
    "            all_dimensions.update(dimensions)\n",
    "            total_image_count += image_count\n",
    "            print(f\"  Disease: {disease_folder}\")\n",
    "            print(f\"    Image Count: {image_count}\")\n",
    "            print(f\"    Image Types: {image_types}\")\n",
    "            print(f\"    Dimensions: {dimensions}\")\n",
    "            print(\"-\" * 20)\n",
    "\n",
    "    return all_image_types, all_dimensions, total_image_count\n",
    "\n",
    "\n",
    "\n",
    "def _analyze_images_in_folder(folder_path): # Helper function\n",
    "    \"\"\"Analyzes images in a single folder (no subfolders).\"\"\"\n",
    "    image_types = set()\n",
    "    dimensions = set()\n",
    "    image_count = 0\n",
    "\n",
    "    for filename in os.listdir(folder_path):\n",
    "        filepath = os.path.join(folder_path, filename)\n",
    "\n",
    "        if os.path.isfile(filepath):\n",
    "            try:\n",
    "                img = cv2.imread(filepath, cv2.IMREAD_UNCHANGED)\n",
    "                if img is not None:\n",
    "                    image_count += 1\n",
    "                    image_types.add(filename.split('.')[-1].lower())\n",
    "                    dimensions.add(img.shape)\n",
    "                else:\n",
    "                    try:\n",
    "                        ds = pydicom.dcmread(filepath)\n",
    "                        img = ds.pixel_array\n",
    "                        image_count += 1\n",
    "                        image_types.add(\"dcm\")\n",
    "                        dimensions.add(img.shape)\n",
    "                    except Exception as dicom_err:\n",
    "                        pass # Or handle DICOM errors as needed\n",
    "            except Exception as e:\n",
    "                pass # Or handle other errors as needed\n",
    "    return image_types, dimensions, image_count\n",
    "\n",
    "\n",
    "\n",
    "\n",
    "# Example usage:\n",
    "folders = [\n",
    "    \"/Users/anyhow/projects/data_science/Medical-Report-Generation/processed_dataset/train\",\n",
    "    \"/Users/anyhow/projects/data_science/Medical-Report-Generation/processed_dataset/test\",\n",
    "    \"/Users/anyhow/projects/data_science/Medical-Report-Generation/processed_dataset/val\",\n",
    "]\n",
    "\n",
    "for folder in folders:\n",
    "    types, dims, count = analyze_image_folder(folder)\n",
    "    print(f\"Folder: {folder}\")\n",
    "    print(f\"  Total Image Count: {count}\")\n",
    "    print(f\"  Overall Image Types: {types}\")\n",
    "    print(f\"  Overall Dimensions: {dims}\")\n",
    "    print(\"=\" * 30)  # Separator between folders"
   ]
  }
 ],
 "metadata": {
  "kernelspec": {
   "display_name": "venv",
   "language": "python",
   "name": "python3"
  },
  "language_info": {
   "codemirror_mode": {
    "name": "ipython",
    "version": 3
   },
   "file_extension": ".py",
   "mimetype": "text/x-python",
   "name": "python",
   "nbconvert_exporter": "python",
   "pygments_lexer": "ipython3",
   "version": "3.13.2"
  }
 },
 "nbformat": 4,
 "nbformat_minor": 2
}
